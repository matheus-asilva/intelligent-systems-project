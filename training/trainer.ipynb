{
 "cells": [
  {
   "cell_type": "code",
   "execution_count": 1,
   "id": "incomplete-league",
   "metadata": {
    "scrolled": false
   },
   "outputs": [
    {
     "name": "stderr",
     "output_type": "stream",
     "text": [
      "[nltk_data] Downloading package rslp to /home/jovyan/nltk_data...\n",
      "[nltk_data]   Unzipping stemmers/rslp.zip.\n"
     ]
    }
   ],
   "source": [
    "import pandas as pd\n",
    "import numpy as np\n",
    "import os\n",
    "import random\n",
    "import matplotlib.pyplot as plt\n",
    "import itertools\n",
    "import time\n",
    "import sys\n",
    "\n",
    "from sklearn.linear_model import LogisticRegression, SGDClassifier\n",
    "from sklearn.ensemble import RandomForestClassifier\n",
    "from sklearn.tree import DecisionTreeClassifier\n",
    "from sklearn.neighbors import KNeighborsClassifier\n",
    "from sklearn.svm import SVC\n",
    "from sklearn.neural_network import MLPClassifier\n",
    "import nltk\n",
    "nltk.download('rslp')\n",
    "\n",
    "from sklearn.model_selection import train_test_split, StratifiedKFold, RandomizedSearchCV, learning_curve\n",
    "from sklearn.pipeline import Pipeline\n",
    "from sklearn.impute import SimpleImputer\n",
    "from sklearn.preprocessing import StandardScaler\n",
    "from sklearn.metrics import accuracy_score, f1_score, roc_auc_score, precision_score, recall_score\n",
    "from sklearn.metrics import confusion_matrix, classification_report\n",
    "from sklearn.feature_extraction.text import CountVectorizer, TfidfTransformer\n",
    "from sklearn.compose import ColumnTransformer\n",
    "from sklearn.base import BaseEstimator\n",
    "from itertools import combinations\n",
    "import cloudpickle as cp\n",
    "import scikitplot as skplt\n",
    "\n",
    "import warnings\n",
    "warnings.simplefilter(\"ignore\")"
   ]
  },
  {
   "cell_type": "markdown",
   "id": "moving-vehicle",
   "metadata": {},
   "source": [
    "# Index:\n",
    "* [Data Extraction](#data-extraction)\n",
    "* [Data Formatting](#data-formatting)\n",
    "    * [NLP](#nlp)\n",
    "    * [Pre-Processor](#pre-processor)\n",
    "    * [Data Split](#data-split)\n",
    "* [Modeling](#modeling)\n",
    "* [Model Validation](#model-validation)\n",
    "    * [Random Search](#random-search)\n",
    "        * [Text Hyperparameters](#text-hyperparameters)\n",
    "        * [Validation Metrics](#validation-metrics)\n",
    "    * [Test Metrics](#test-metrics)\n",
    "* [Model Exportation](#model-exportation)"
   ]
  },
  {
   "cell_type": "code",
   "execution_count": 2,
   "id": "creative-version",
   "metadata": {},
   "outputs": [],
   "source": [
    "# Set a seed value\n",
    "seed_value = 42\n",
    "os.environ['PYTHONHASHSEED'] = str(seed_value)\n",
    "random.seed(seed_value)\n",
    "np.random.seed(seed_value)"
   ]
  },
  {
   "cell_type": "markdown",
   "id": "aware-occurrence",
   "metadata": {},
   "source": [
    "## Data Extraction <a class=\"anchor\" id=\"data-extraction\"></a>"
   ]
  },
  {
   "cell_type": "code",
   "execution_count": 3,
   "id": "driven-scene",
   "metadata": {},
   "outputs": [
    {
     "data": {
      "text/plain": [
       "(38000, 15)"
      ]
     },
     "execution_count": 3,
     "metadata": {},
     "output_type": "execute_result"
    }
   ],
   "source": [
    "DATASET_PATH = os.getenv(\"DATASET_PATH\")\n",
    "\n",
    "sample = pd.read_csv(DATASET_PATH)\n",
    "sample.shape"
   ]
  },
  {
   "cell_type": "code",
   "execution_count": 4,
   "id": "conventional-stockholm",
   "metadata": {},
   "outputs": [
    {
     "data": {
      "text/html": [
       "<div>\n",
       "<style scoped>\n",
       "    .dataframe tbody tr th:only-of-type {\n",
       "        vertical-align: middle;\n",
       "    }\n",
       "\n",
       "    .dataframe tbody tr th {\n",
       "        vertical-align: top;\n",
       "    }\n",
       "\n",
       "    .dataframe thead th {\n",
       "        text-align: right;\n",
       "    }\n",
       "</style>\n",
       "<table border=\"1\" class=\"dataframe\">\n",
       "  <thead>\n",
       "    <tr style=\"text-align: right;\">\n",
       "      <th></th>\n",
       "      <th>product_id</th>\n",
       "      <th>seller_id</th>\n",
       "      <th>query</th>\n",
       "      <th>search_page</th>\n",
       "      <th>position</th>\n",
       "      <th>title</th>\n",
       "      <th>concatenated_tags</th>\n",
       "      <th>creation_date</th>\n",
       "      <th>price</th>\n",
       "      <th>weight</th>\n",
       "      <th>express_delivery</th>\n",
       "      <th>minimum_quantity</th>\n",
       "      <th>view_counts</th>\n",
       "      <th>order_counts</th>\n",
       "      <th>category</th>\n",
       "    </tr>\n",
       "  </thead>\n",
       "  <tbody>\n",
       "    <tr>\n",
       "      <th>0</th>\n",
       "      <td>11394449</td>\n",
       "      <td>8324141</td>\n",
       "      <td>espirito santo</td>\n",
       "      <td>2</td>\n",
       "      <td>6</td>\n",
       "      <td>Mandala Espírito Santo</td>\n",
       "      <td>mandala mdf</td>\n",
       "      <td>2015-11-14 19:42:12</td>\n",
       "      <td>171.890000</td>\n",
       "      <td>1200.0</td>\n",
       "      <td>1</td>\n",
       "      <td>4</td>\n",
       "      <td>244</td>\n",
       "      <td>NaN</td>\n",
       "      <td>Decoração</td>\n",
       "    </tr>\n",
       "    <tr>\n",
       "      <th>1</th>\n",
       "      <td>15534262</td>\n",
       "      <td>6939286</td>\n",
       "      <td>cartao de visita</td>\n",
       "      <td>2</td>\n",
       "      <td>0</td>\n",
       "      <td>Cartão de Visita</td>\n",
       "      <td>cartao visita panfletos tag adesivos copos lon...</td>\n",
       "      <td>2018-04-04 20:55:07</td>\n",
       "      <td>77.670000</td>\n",
       "      <td>8.0</td>\n",
       "      <td>1</td>\n",
       "      <td>5</td>\n",
       "      <td>124</td>\n",
       "      <td>NaN</td>\n",
       "      <td>Papel e Cia</td>\n",
       "    </tr>\n",
       "    <tr>\n",
       "      <th>2</th>\n",
       "      <td>16153119</td>\n",
       "      <td>9835835</td>\n",
       "      <td>expositor de esmaltes</td>\n",
       "      <td>1</td>\n",
       "      <td>38</td>\n",
       "      <td>Organizador expositor p/ 70 esmaltes</td>\n",
       "      <td>expositor</td>\n",
       "      <td>2018-10-13 20:57:07</td>\n",
       "      <td>73.920006</td>\n",
       "      <td>2709.0</td>\n",
       "      <td>1</td>\n",
       "      <td>1</td>\n",
       "      <td>59</td>\n",
       "      <td>NaN</td>\n",
       "      <td>Outros</td>\n",
       "    </tr>\n",
       "    <tr>\n",
       "      <th>3</th>\n",
       "      <td>15877252</td>\n",
       "      <td>8071206</td>\n",
       "      <td>medidas lencol para berco americano</td>\n",
       "      <td>1</td>\n",
       "      <td>6</td>\n",
       "      <td>Jogo de Lençol Berço Estampado</td>\n",
       "      <td>t jogo lencol menino lencol berco</td>\n",
       "      <td>2017-02-27 13:26:03</td>\n",
       "      <td>118.770004</td>\n",
       "      <td>0.0</td>\n",
       "      <td>1</td>\n",
       "      <td>1</td>\n",
       "      <td>180</td>\n",
       "      <td>1.0</td>\n",
       "      <td>Bebê</td>\n",
       "    </tr>\n",
       "    <tr>\n",
       "      <th>4</th>\n",
       "      <td>15917108</td>\n",
       "      <td>7200773</td>\n",
       "      <td>adesivo box banheiro</td>\n",
       "      <td>3</td>\n",
       "      <td>38</td>\n",
       "      <td>ADESIVO BOX DE BANHEIRO</td>\n",
       "      <td>adesivo box banheiro</td>\n",
       "      <td>2017-05-09 13:18:38</td>\n",
       "      <td>191.810000</td>\n",
       "      <td>507.0</td>\n",
       "      <td>1</td>\n",
       "      <td>6</td>\n",
       "      <td>34</td>\n",
       "      <td>NaN</td>\n",
       "      <td>Decoração</td>\n",
       "    </tr>\n",
       "  </tbody>\n",
       "</table>\n",
       "</div>"
      ],
      "text/plain": [
       "   product_id  seller_id                                query  search_page  \\\n",
       "0    11394449    8324141                       espirito santo            2   \n",
       "1    15534262    6939286                     cartao de visita            2   \n",
       "2    16153119    9835835                expositor de esmaltes            1   \n",
       "3    15877252    8071206  medidas lencol para berco americano            1   \n",
       "4    15917108    7200773                 adesivo box banheiro            3   \n",
       "\n",
       "   position                                 title  \\\n",
       "0         6                Mandala Espírito Santo   \n",
       "1         0                      Cartão de Visita   \n",
       "2        38  Organizador expositor p/ 70 esmaltes   \n",
       "3         6        Jogo de Lençol Berço Estampado   \n",
       "4        38               ADESIVO BOX DE BANHEIRO   \n",
       "\n",
       "                                   concatenated_tags        creation_date  \\\n",
       "0                                        mandala mdf  2015-11-14 19:42:12   \n",
       "1  cartao visita panfletos tag adesivos copos lon...  2018-04-04 20:55:07   \n",
       "2                                          expositor  2018-10-13 20:57:07   \n",
       "3                  t jogo lencol menino lencol berco  2017-02-27 13:26:03   \n",
       "4                               adesivo box banheiro  2017-05-09 13:18:38   \n",
       "\n",
       "        price  weight  express_delivery  minimum_quantity  view_counts  \\\n",
       "0  171.890000  1200.0                 1                 4          244   \n",
       "1   77.670000     8.0                 1                 5          124   \n",
       "2   73.920006  2709.0                 1                 1           59   \n",
       "3  118.770004     0.0                 1                 1          180   \n",
       "4  191.810000   507.0                 1                 6           34   \n",
       "\n",
       "   order_counts     category  \n",
       "0           NaN    Decoração  \n",
       "1           NaN  Papel e Cia  \n",
       "2           NaN       Outros  \n",
       "3           1.0         Bebê  \n",
       "4           NaN    Decoração  "
      ]
     },
     "execution_count": 4,
     "metadata": {},
     "output_type": "execute_result"
    }
   ],
   "source": [
    "sample.head()"
   ]
  },
  {
   "cell_type": "code",
   "execution_count": 5,
   "id": "healthy-memphis",
   "metadata": {},
   "outputs": [
    {
     "data": {
      "text/plain": [
       "product_id               0\n",
       "seller_id                0\n",
       "query                    0\n",
       "search_page              0\n",
       "position                 0\n",
       "title                    0\n",
       "concatenated_tags        2\n",
       "creation_date            0\n",
       "price                    0\n",
       "weight                  58\n",
       "express_delivery         0\n",
       "minimum_quantity         0\n",
       "view_counts              0\n",
       "order_counts         20105\n",
       "category                 0\n",
       "dtype: int64"
      ]
     },
     "execution_count": 5,
     "metadata": {},
     "output_type": "execute_result"
    }
   ],
   "source": [
    "sample.isna().sum(axis=0)"
   ]
  },
  {
   "cell_type": "code",
   "execution_count": 6,
   "id": "center-jason",
   "metadata": {},
   "outputs": [
    {
     "data": {
      "text/plain": [
       "Lembrancinhas         17524\n",
       "Decoração              8723\n",
       "Bebê                   6930\n",
       "Papel e Cia            2750\n",
       "Outros                 1133\n",
       "Bijuterias e Jóias      940\n",
       "Name: category, dtype: int64"
      ]
     },
     "execution_count": 6,
     "metadata": {},
     "output_type": "execute_result"
    }
   ],
   "source": [
    "sample['category'].value_counts()"
   ]
  },
  {
   "cell_type": "markdown",
   "id": "serial-recording",
   "metadata": {},
   "source": [
    "## Data Formatting <a class=\"anchor\" id=\"data-formatting\"></a>"
   ]
  },
  {
   "cell_type": "markdown",
   "id": "affiliated-softball",
   "metadata": {},
   "source": [
    "We selected all columns from the CSV file, with the exception of the product_id and seller_id columns, as they don't contain meaningful information about the categories we want to predict. "
   ]
  },
  {
   "cell_type": "code",
   "execution_count": 7,
   "id": "capital-wilderness",
   "metadata": {},
   "outputs": [],
   "source": [
    "numerical_columns = sample.select_dtypes(\"number\").columns.tolist()[2:]\n",
    "text_columns = ['title', 'query', 'concatenated_tags']"
   ]
  },
  {
   "cell_type": "code",
   "execution_count": 8,
   "id": "assured-figure",
   "metadata": {},
   "outputs": [],
   "source": [
    "X = sample[numerical_columns + text_columns]\n",
    "y = sample[\"category\"]\n",
    "\n",
    "X.loc[:, 'title'] = X['title'].str.lower()\n",
    "X.loc[:, text_columns] = X.loc[:, text_columns].fillna(\"\")"
   ]
  },
  {
   "cell_type": "markdown",
   "id": "fitted-ordering",
   "metadata": {},
   "source": [
    "### NLP <a class=\"anchor\" id=\"nlp\"></a>"
   ]
  },
  {
   "cell_type": "markdown",
   "id": "thorough-corporation",
   "metadata": {},
   "source": [
    "We used Bag of Words in our pipeline, because it is a simple way to extract information from the text. We also experimented with Tf-idf, which improved our results."
   ]
  },
  {
   "cell_type": "code",
   "execution_count": 9,
   "id": "white-uzbekistan",
   "metadata": {},
   "outputs": [],
   "source": [
    "class TextColumnConcatenation(BaseEstimator):\n",
    "\n",
    "    def __init__(self, columns = ['title']):\n",
    "        self.columns = columns\n",
    "        \n",
    "    def transform(self, X):\n",
    "        if len(self.columns) > 1:\n",
    "            return X[self.columns].apply(lambda row: ' '.join(row.values.astype(str)), axis=1)\n",
    "        else:\n",
    "            return X[self.columns[0]]\n",
    "\n",
    "    def fit(self, X, y=None):\n",
    "        return self"
   ]
  },
  {
   "cell_type": "code",
   "execution_count": 10,
   "id": "offshore-atmosphere",
   "metadata": {},
   "outputs": [],
   "source": [
    "class CountVectorizerWithStemming(CountVectorizer):\n",
    "    \n",
    "    def __init__(self, stemming=False, token_pattern=r\"(?u)\\b\\w\\w+\\b\", stop_words=None):\n",
    "        self.stemming = stemming\n",
    "        self.token_pattern = token_pattern\n",
    "        self.stop_words = stop_words\n",
    "        \n",
    "        parameters = {\"token_pattern\": token_pattern,\n",
    "                      \"stop_words\": stop_words}\n",
    "        if stemming:\n",
    "            \n",
    "            analyzer = CountVectorizer(**parameters).build_analyzer()\n",
    "            stemmer = nltk.stem.RSLPStemmer()\n",
    "            \n",
    "            def apply_stem(sentence):\n",
    "                return (stemmer.stem(w) for w in analyzer(sentence))\n",
    "        \n",
    "            parameters['analyzer'] = apply_stem\n",
    "        \n",
    "        super().__init__(**parameters)"
   ]
  },
  {
   "cell_type": "code",
   "execution_count": 11,
   "id": "upper-racing",
   "metadata": {},
   "outputs": [],
   "source": [
    "def save_model(model, path):\n",
    "    with open(path, \"wb\") as file:\n",
    "        cp.dump(model, file)\n",
    "    print(\"Model saved at:\", path)\n",
    "\n",
    "    \n",
    "def load_model(path):\n",
    "    with open(path, \"rb\") as file:\n",
    "        return cp.load(file)"
   ]
  },
  {
   "cell_type": "markdown",
   "id": "rental-miniature",
   "metadata": {},
   "source": [
    "### Pre-processor <a class=\"anchor\" id=\"pre-processor\"></a>"
   ]
  },
  {
   "cell_type": "code",
   "execution_count": 12,
   "id": "monthly-south",
   "metadata": {},
   "outputs": [],
   "source": [
    "numerical_transformer = Pipeline(steps=[\n",
    "    ('imputer', SimpleImputer(strategy='median')),\n",
    "    (\"scaler\", StandardScaler())\n",
    "])\n",
    "\n",
    "text_transformer = Pipeline(steps=[\n",
    "    (\"text_column_concatenation\", TextColumnConcatenation()),\n",
    "    (\"count_vectorizer\", CountVectorizerWithStemming()),\n",
    "    (\"tf_idf\", \"passthrough\"),\n",
    "    (\"scaler\", StandardScaler(with_mean=False))\n",
    "])\n",
    "\n",
    "preprocessor = ColumnTransformer(transformers=[\n",
    "    ('numerical', numerical_transformer, numerical_columns),\n",
    "    ('categorical', text_transformer, text_columns)\n",
    "])"
   ]
  },
  {
   "cell_type": "markdown",
   "id": "peripheral-third",
   "metadata": {},
   "source": [
    "### Data Split <a class=\"anchor\" id=\"data-split\"></a>"
   ]
  },
  {
   "cell_type": "markdown",
   "id": "altered-poverty",
   "metadata": {},
   "source": [
    "The data were divided into training and test subsets. We use stratification so that the proportion of classes is maintained in both subsets of the data."
   ]
  },
  {
   "cell_type": "code",
   "execution_count": 13,
   "id": "prompt-maintenance",
   "metadata": {},
   "outputs": [],
   "source": [
    "X_train, X_test, y_train, y_test = train_test_split(X, y, random_state=seed_value, test_size=.2, stratify=y)"
   ]
  },
  {
   "cell_type": "markdown",
   "id": "adjusted-screen",
   "metadata": {},
   "source": [
    "## Modeling <a class=\"anchor\" id=\"modeling\"></a>"
   ]
  },
  {
   "cell_type": "markdown",
   "id": "confirmed-registration",
   "metadata": {},
   "source": [
    "We used a combination of simple classifiers (Logistic Regression, Decision Tree) and more complex ones (Random Forest, Multi-Layer Perceptron). And we chose the best one based on the validation metrics."
   ]
  },
  {
   "cell_type": "code",
   "execution_count": 14,
   "id": "atmospheric-account",
   "metadata": {},
   "outputs": [],
   "source": [
    "pipe_log = Pipeline(\n",
    "    [\n",
    "        ('preprocessor', preprocessor),\n",
    "        (\"classifier\", LogisticRegression(random_state=seed_value))\n",
    "    ]\n",
    ")\n",
    "\n",
    "pipe_tree = Pipeline(\n",
    "    [\n",
    "        ('preprocessor', preprocessor),\n",
    "        (\"classifier\", DecisionTreeClassifier(random_state=seed_value))\n",
    "    ]\n",
    ")\n",
    "\n",
    "pipe_rf = Pipeline(\n",
    "    [\n",
    "        ('preprocessor', preprocessor),\n",
    "        (\"classifier\", RandomForestClassifier(random_state=seed_value))\n",
    "    ]\n",
    ")\n",
    "\n",
    "pipe_mlp = Pipeline(\n",
    "    [\n",
    "        ('preprocessor', preprocessor),\n",
    "        (\"classifier\", MLPClassifier(max_iter=100, random_state=seed_value))\n",
    "    ]\n",
    ")"
   ]
  },
  {
   "cell_type": "markdown",
   "id": "treated-harvey",
   "metadata": {},
   "source": [
    "## Model Validation <a class=\"anchor\" id=\"model-validation\"></a>"
   ]
  },
  {
   "cell_type": "markdown",
   "id": "retired-trust",
   "metadata": {},
   "source": [
    "For validation and hyperparameter search, we used RandomSearch and StratifiedKfold. RandomSearch is usually better than GridSearch and less computationally expensive. \n",
    "\n",
    "Since we have an imbalanced dataset, we shouldn't use accuracy as our only metric. In this stage, we used f1, precision, recall and the ROC AUC score. Our random search optimization uses the ROC AUC score to return the best model.\n",
    "\n",
    "We also manually tweaked the hyperparameters for some promissing models."
   ]
  },
  {
   "cell_type": "markdown",
   "id": "critical-jacket",
   "metadata": {},
   "source": [
    "### Random Search <a class=\"anchor\" id=\"random-search\"></a>"
   ]
  },
  {
   "cell_type": "code",
   "execution_count": 15,
   "id": "indonesian-chicago",
   "metadata": {},
   "outputs": [],
   "source": [
    "cv = StratifiedKFold(n_splits=5, shuffle=True, random_state=seed_value)"
   ]
  },
  {
   "cell_type": "code",
   "execution_count": 16,
   "id": "dangerous-orientation",
   "metadata": {},
   "outputs": [],
   "source": [
    "scoring = {'f1': 'f1_weighted', 'precision': 'precision_weighted', 'recall': 'recall_weighted', 'roc_auc': 'roc_auc_ovo_weighted'}"
   ]
  },
  {
   "cell_type": "code",
   "execution_count": 17,
   "id": "photographic-thesaurus",
   "metadata": {},
   "outputs": [],
   "source": [
    "def search_pipeline(pipeline, search_space, scoring, cv, random_state, X, y, load_best=False, n_iter=10,\n",
    "                    model_name=None):\n",
    "    \"\"\" Creates a random search for pipeline, fits the data, and returns the random search object\n",
    "        \n",
    "        if load_best is true, then it skips training and loads the best model instead\n",
    "    \"\"\"\n",
    "    if model_name == None:\n",
    "        model_name = f\"RandomSearch{pipeline['classifier'].__class__.__name__}.pkl\"\n",
    "    \n",
    "    best_models_path = os.getenv(\"BEST_MODELS_PATH\")\n",
    "    model_path = os.path.join(best_models_path, model_name)\n",
    "    \n",
    "    if load_best:\n",
    "        search = load_model(model_path)\n",
    "    else:\n",
    "        search = RandomizedSearchCV(\n",
    "            estimator=pipeline,\n",
    "            param_distributions=search_space,\n",
    "            cv=cv,\n",
    "            verbose=1,\n",
    "            n_jobs=-1,\n",
    "            random_state=random_state,\n",
    "            scoring=scoring,\n",
    "            refit=\"roc_auc\",\n",
    "            n_iter=n_iter,\n",
    "            return_train_score=True,\n",
    "        )\n",
    "        start = time.time()\n",
    "        search.fit(X_train, y_train)\n",
    "        stop = time.time()\n",
    "        print(f\"Training time: {(stop - start) / 60} minutes\")\n",
    "        save_model(search, model_path)       \n",
    "    \n",
    "    return search"
   ]
  },
  {
   "cell_type": "code",
   "execution_count": 18,
   "id": "brief-relief",
   "metadata": {},
   "outputs": [],
   "source": [
    "def get_search_metrics(search):\n",
    "    best_index = search.best_index_\n",
    "    metrics = search.scorer_.keys()\n",
    "    data_modes = [\"train\", \"test\"]\n",
    "    statistics = [\"mean\", \"std\"]\n",
    "    \n",
    "    iterables = [data_modes, statistics]\n",
    "    index = pd.MultiIndex.from_product(iterables, names=[\"data\", \"statistic\"])\n",
    "    \n",
    "    df = pd.DataFrame(index=index, columns=metrics)\n",
    "    \n",
    "    for metric in metrics:\n",
    "        for data_mode in data_modes:\n",
    "            for statistic in statistics:\n",
    "                df.loc[(data_mode, statistic), \n",
    "                       metric] =  search.cv_results_[f'{statistic}_{data_mode}_{metric}'][best_index]\n",
    "    return round(df, 3)\n",
    "        \n",
    "        "
   ]
  },
  {
   "cell_type": "markdown",
   "id": "peripheral-appeal",
   "metadata": {},
   "source": [
    "#### Text-Hyperparameters <a class=\"anchor\" id=\"text-hyperparameters\"></a>"
   ]
  },
  {
   "cell_type": "markdown",
   "id": "geographic-mississippi",
   "metadata": {},
   "source": [
    "We used hyperparameters in our data processing phase to help with generalization. These hyperparameters are \n",
    "\n",
    "* stemming\n",
    "* token patterns \n",
    "* stop words. \n",
    "\n",
    "Token patterns are being used to select words with the length in a certain interval. Smaller and bigger words don't help our classifier as they don't contain meaningful information."
   ]
  },
  {
   "cell_type": "code",
   "execution_count": 19,
   "id": "golden-catch",
   "metadata": {},
   "outputs": [
    {
     "data": {
      "text/plain": [
       "[['title'],\n",
       " ['query'],\n",
       " ['concatenated_tags'],\n",
       " ['title', 'query'],\n",
       " ['title', 'concatenated_tags'],\n",
       " ['query', 'concatenated_tags'],\n",
       " ['title', 'query', 'concatenated_tags']]"
      ]
     },
     "execution_count": 19,
     "metadata": {},
     "output_type": "execute_result"
    }
   ],
   "source": [
    "columns_combinations = []\n",
    "for r in range(1, len(text_columns) + 1):\n",
    "    combination = []\n",
    "    for value in combinations(text_columns, r):\n",
    "        combination.append(list(value))\n",
    "    columns_combinations += combination\n",
    "columns_combinations"
   ]
  },
  {
   "cell_type": "code",
   "execution_count": 20,
   "id": "olympic-healthcare",
   "metadata": {},
   "outputs": [
    {
     "data": {
      "text/plain": [
       "['a',\n",
       " 'acerca',\n",
       " 'adeus',\n",
       " 'agora',\n",
       " 'ainda',\n",
       " 'alem',\n",
       " 'algmas',\n",
       " 'algo',\n",
       " 'algumas',\n",
       " 'alguns']"
      ]
     },
     "execution_count": 20,
     "metadata": {},
     "output_type": "execute_result"
    }
   ],
   "source": [
    "stopwords_url = \"https://raw.githubusercontent.com/stopwords-iso/stopwords-pt/master/stopwords-pt.txt\"\n",
    "stopwords = pd.read_csv(stopwords_url, header=None)[0].tolist()\n",
    "stopwords[:10]"
   ]
  },
  {
   "cell_type": "code",
   "execution_count": 21,
   "id": "european-fundamental",
   "metadata": {},
   "outputs": [
    {
     "data": {
      "text/plain": [
       "['(?u)\\\\b[^\\\\d\\\\W]{3,16}\\\\b',\n",
       " '(?u)\\\\b[^\\\\d\\\\W]{3,15}\\\\b',\n",
       " '(?u)\\\\b[^\\\\d\\\\W]{3,14}\\\\b',\n",
       " '(?u)\\\\b[^\\\\d\\\\W]{4,16}\\\\b',\n",
       " '(?u)\\\\b[^\\\\d\\\\W]{4,15}\\\\b',\n",
       " '(?u)\\\\b[^\\\\d\\\\W]{4,14}\\\\b',\n",
       " '(?u)\\\\b[^\\\\d\\\\W]{5,16}\\\\b',\n",
       " '(?u)\\\\b[^\\\\d\\\\W]{5,15}\\\\b',\n",
       " '(?u)\\\\b[^\\\\d\\\\W]{5,14}\\\\b',\n",
       " '(?u)\\\\b[^\\\\d\\\\W]{6,16}\\\\b',\n",
       " '(?u)\\\\b[^\\\\d\\\\W]{6,15}\\\\b',\n",
       " '(?u)\\\\b[^\\\\d\\\\W]{6,14}\\\\b']"
      ]
     },
     "execution_count": 21,
     "metadata": {},
     "output_type": "execute_result"
    }
   ],
   "source": [
    "def get_regex_word(min_word, max_word):\n",
    "    return rf'(?u)\\b[^\\d\\W]{{{min_word},{max_word}}}\\b'\n",
    "\n",
    "\n",
    "min_word_length_list = [3, 4, 5, 6]\n",
    "max_word_length_list = [16, 15, 14]\n",
    "\n",
    "patterns = []\n",
    "for min_word_length in min_word_length_list:\n",
    "    for max_word_length in max_word_length_list:\n",
    "        patterns.append(get_regex_word(min_word_length, max_word_length))\n",
    "patterns"
   ]
  },
  {
   "cell_type": "code",
   "execution_count": 22,
   "id": "three-driver",
   "metadata": {},
   "outputs": [],
   "source": [
    "text_hyperparams = {\n",
    "    \"preprocessor__categorical__text_column_concatenation__columns\": columns_combinations,\n",
    "    \"preprocessor__categorical__count_vectorizer__stop_words\": [None, stopwords],\n",
    "    \"preprocessor__categorical__count_vectorizer__token_pattern\": patterns,\n",
    "    \"preprocessor__categorical__count_vectorizer__stemming\": [False, True],\n",
    "    \"preprocessor__categorical__tf_idf\": [\"passthrough\", TfidfTransformer()],\n",
    "}"
   ]
  },
  {
   "cell_type": "markdown",
   "id": "extensive-language",
   "metadata": {},
   "source": [
    "#### Validation Metrics <a class=\"anchor\" id=\"validation-metrics\"></a>"
   ]
  },
  {
   "cell_type": "code",
   "execution_count": 23,
   "id": "broad-edmonton",
   "metadata": {},
   "outputs": [],
   "source": [
    "load_best = True #change this flag to True if you want to run the random search\n",
    "n_iter = 70"
   ]
  },
  {
   "cell_type": "code",
   "execution_count": 24,
   "id": "numeric-suicide",
   "metadata": {},
   "outputs": [],
   "source": [
    "metrics = {'accuracy': 'accuracy', 'f1': 'f1_weighted', 'precision': 'precision_weighted', 'recall': 'recall_weighted', 'roc_auc': 'roc_auc_ovo_weighted'}"
   ]
  },
  {
   "cell_type": "code",
   "execution_count": 25,
   "id": "weighted-bolivia",
   "metadata": {
    "scrolled": false
   },
   "outputs": [
    {
     "data": {
      "text/html": [
       "<div>\n",
       "<style scoped>\n",
       "    .dataframe tbody tr th:only-of-type {\n",
       "        vertical-align: middle;\n",
       "    }\n",
       "\n",
       "    .dataframe tbody tr th {\n",
       "        vertical-align: top;\n",
       "    }\n",
       "\n",
       "    .dataframe thead th {\n",
       "        text-align: right;\n",
       "    }\n",
       "</style>\n",
       "<table border=\"1\" class=\"dataframe\">\n",
       "  <thead>\n",
       "    <tr style=\"text-align: right;\">\n",
       "      <th></th>\n",
       "      <th></th>\n",
       "      <th>accuracy</th>\n",
       "      <th>f1</th>\n",
       "      <th>precision</th>\n",
       "      <th>recall</th>\n",
       "      <th>roc_auc</th>\n",
       "    </tr>\n",
       "    <tr>\n",
       "      <th>data</th>\n",
       "      <th>statistic</th>\n",
       "      <th></th>\n",
       "      <th></th>\n",
       "      <th></th>\n",
       "      <th></th>\n",
       "      <th></th>\n",
       "    </tr>\n",
       "  </thead>\n",
       "  <tbody>\n",
       "    <tr>\n",
       "      <th rowspan=\"2\" valign=\"top\">train</th>\n",
       "      <th>mean</th>\n",
       "      <td>0.804613</td>\n",
       "      <td>0.791825</td>\n",
       "      <td>0.826481</td>\n",
       "      <td>0.804613</td>\n",
       "      <td>0.905318</td>\n",
       "    </tr>\n",
       "    <tr>\n",
       "      <th>std</th>\n",
       "      <td>0.001397</td>\n",
       "      <td>0.003026</td>\n",
       "      <td>0.004252</td>\n",
       "      <td>0.001397</td>\n",
       "      <td>0.000937</td>\n",
       "    </tr>\n",
       "    <tr>\n",
       "      <th rowspan=\"2\" valign=\"top\">test</th>\n",
       "      <th>mean</th>\n",
       "      <td>0.776151</td>\n",
       "      <td>0.760376</td>\n",
       "      <td>0.789581</td>\n",
       "      <td>0.776151</td>\n",
       "      <td>0.875802</td>\n",
       "    </tr>\n",
       "    <tr>\n",
       "      <th>std</th>\n",
       "      <td>0.004631</td>\n",
       "      <td>0.006112</td>\n",
       "      <td>0.002520</td>\n",
       "      <td>0.004631</td>\n",
       "      <td>0.003029</td>\n",
       "    </tr>\n",
       "  </tbody>\n",
       "</table>\n",
       "</div>"
      ],
      "text/plain": [
       "                 accuracy        f1 precision    recall   roc_auc\n",
       "data  statistic                                                  \n",
       "train mean       0.804613  0.791825  0.826481  0.804613  0.905318\n",
       "      std        0.001397  0.003026  0.004252  0.001397  0.000937\n",
       "test  mean       0.776151  0.760376  0.789581  0.776151  0.875802\n",
       "      std        0.004631  0.006112  0.002520  0.004631  0.003029"
      ]
     },
     "execution_count": 25,
     "metadata": {},
     "output_type": "execute_result"
    }
   ],
   "source": [
    "search_space_tree = {\n",
    "    \"classifier__criterion\": ['gini', 'entropy'],\n",
    "    \"classifier__max_depth\": [2, 4, 6, 8, 10, 12]\n",
    "}\n",
    "\n",
    "search_space_tree.update(text_hyperparams)\n",
    "\n",
    "\n",
    "best_pipe_tree = search_pipeline(pipe_tree, search_space_tree, scoring, cv, seed_value, \n",
    "                                                  X_train, y_train, load_best=load_best, n_iter=n_iter)\n",
    "get_search_metrics(best_pipe_tree)"
   ]
  },
  {
   "cell_type": "code",
   "execution_count": 26,
   "id": "regional-yemen",
   "metadata": {},
   "outputs": [
    {
     "data": {
      "text/html": [
       "<div>\n",
       "<style scoped>\n",
       "    .dataframe tbody tr th:only-of-type {\n",
       "        vertical-align: middle;\n",
       "    }\n",
       "\n",
       "    .dataframe tbody tr th {\n",
       "        vertical-align: top;\n",
       "    }\n",
       "\n",
       "    .dataframe thead th {\n",
       "        text-align: right;\n",
       "    }\n",
       "</style>\n",
       "<table border=\"1\" class=\"dataframe\">\n",
       "  <thead>\n",
       "    <tr style=\"text-align: right;\">\n",
       "      <th></th>\n",
       "      <th></th>\n",
       "      <th>accuracy</th>\n",
       "      <th>f1</th>\n",
       "      <th>precision</th>\n",
       "      <th>recall</th>\n",
       "      <th>roc_auc</th>\n",
       "    </tr>\n",
       "    <tr>\n",
       "      <th>data</th>\n",
       "      <th>statistic</th>\n",
       "      <th></th>\n",
       "      <th></th>\n",
       "      <th></th>\n",
       "      <th></th>\n",
       "      <th></th>\n",
       "    </tr>\n",
       "  </thead>\n",
       "  <tbody>\n",
       "    <tr>\n",
       "      <th rowspan=\"2\" valign=\"top\">train</th>\n",
       "      <th>mean</th>\n",
       "      <td>0.930625</td>\n",
       "      <td>0.929925</td>\n",
       "      <td>0.930725</td>\n",
       "      <td>0.930625</td>\n",
       "      <td>0.991194</td>\n",
       "    </tr>\n",
       "    <tr>\n",
       "      <th>std</th>\n",
       "      <td>0.004733</td>\n",
       "      <td>0.004882</td>\n",
       "      <td>0.004680</td>\n",
       "      <td>0.004733</td>\n",
       "      <td>0.001410</td>\n",
       "    </tr>\n",
       "    <tr>\n",
       "      <th rowspan=\"2\" valign=\"top\">test</th>\n",
       "      <th>mean</th>\n",
       "      <td>0.876941</td>\n",
       "      <td>0.875005</td>\n",
       "      <td>0.875405</td>\n",
       "      <td>0.876941</td>\n",
       "      <td>0.969767</td>\n",
       "    </tr>\n",
       "    <tr>\n",
       "      <th>std</th>\n",
       "      <td>0.002937</td>\n",
       "      <td>0.002700</td>\n",
       "      <td>0.002866</td>\n",
       "      <td>0.002937</td>\n",
       "      <td>0.001732</td>\n",
       "    </tr>\n",
       "  </tbody>\n",
       "</table>\n",
       "</div>"
      ],
      "text/plain": [
       "                 accuracy        f1 precision    recall   roc_auc\n",
       "data  statistic                                                  \n",
       "train mean       0.930625  0.929925  0.930725  0.930625  0.991194\n",
       "      std        0.004733  0.004882  0.004680  0.004733  0.001410\n",
       "test  mean       0.876941  0.875005  0.875405  0.876941  0.969767\n",
       "      std        0.002937  0.002700  0.002866  0.002937  0.001732"
      ]
     },
     "execution_count": 26,
     "metadata": {},
     "output_type": "execute_result"
    }
   ],
   "source": [
    "search_space_log = {\n",
    "    \"classifier__penalty\": ['l2', 'l1'],\n",
    "    \"classifier__C\": np.logspace(0, 4, 10),\n",
    "    \"classifier__solver\":['newton-cg', 'saga', 'liblinear']\n",
    "}\n",
    "\n",
    "search_space_log.update(text_hyperparams)\n",
    "\n",
    "best_pipe_log = search_pipeline(pipe_log, search_space_log, scoring,  cv, seed_value,\n",
    "                                X_train, y_train, load_best=load_best, n_iter=n_iter);\n",
    "get_search_metrics(best_pipe_log)"
   ]
  },
  {
   "cell_type": "code",
   "execution_count": 27,
   "id": "prompt-bracelet",
   "metadata": {},
   "outputs": [
    {
     "data": {
      "text/html": [
       "<div>\n",
       "<style scoped>\n",
       "    .dataframe tbody tr th:only-of-type {\n",
       "        vertical-align: middle;\n",
       "    }\n",
       "\n",
       "    .dataframe tbody tr th {\n",
       "        vertical-align: top;\n",
       "    }\n",
       "\n",
       "    .dataframe thead th {\n",
       "        text-align: right;\n",
       "    }\n",
       "</style>\n",
       "<table border=\"1\" class=\"dataframe\">\n",
       "  <thead>\n",
       "    <tr style=\"text-align: right;\">\n",
       "      <th></th>\n",
       "      <th></th>\n",
       "      <th>accuracy</th>\n",
       "      <th>f1</th>\n",
       "      <th>precision</th>\n",
       "      <th>recall</th>\n",
       "      <th>roc_auc</th>\n",
       "    </tr>\n",
       "    <tr>\n",
       "      <th>data</th>\n",
       "      <th>statistic</th>\n",
       "      <th></th>\n",
       "      <th></th>\n",
       "      <th></th>\n",
       "      <th></th>\n",
       "      <th></th>\n",
       "    </tr>\n",
       "  </thead>\n",
       "  <tbody>\n",
       "    <tr>\n",
       "      <th rowspan=\"2\" valign=\"top\">train</th>\n",
       "      <th>mean</th>\n",
       "      <td>0.517459</td>\n",
       "      <td>0.397447</td>\n",
       "      <td>0.632506</td>\n",
       "      <td>0.517459</td>\n",
       "      <td>0.919295</td>\n",
       "    </tr>\n",
       "    <tr>\n",
       "      <th>std</th>\n",
       "      <td>0.003938</td>\n",
       "      <td>0.007267</td>\n",
       "      <td>0.010670</td>\n",
       "      <td>0.003938</td>\n",
       "      <td>0.000510</td>\n",
       "    </tr>\n",
       "    <tr>\n",
       "      <th rowspan=\"2\" valign=\"top\">test</th>\n",
       "      <th>mean</th>\n",
       "      <td>0.516184</td>\n",
       "      <td>0.395281</td>\n",
       "      <td>0.627072</td>\n",
       "      <td>0.516184</td>\n",
       "      <td>0.916430</td>\n",
       "    </tr>\n",
       "    <tr>\n",
       "      <th>std</th>\n",
       "      <td>0.004699</td>\n",
       "      <td>0.008726</td>\n",
       "      <td>0.001614</td>\n",
       "      <td>0.004699</td>\n",
       "      <td>0.002095</td>\n",
       "    </tr>\n",
       "  </tbody>\n",
       "</table>\n",
       "</div>"
      ],
      "text/plain": [
       "                 accuracy        f1 precision    recall   roc_auc\n",
       "data  statistic                                                  \n",
       "train mean       0.517459  0.397447  0.632506  0.517459  0.919295\n",
       "      std        0.003938  0.007267  0.010670  0.003938  0.000510\n",
       "test  mean       0.516184  0.395281  0.627072  0.516184  0.916430\n",
       "      std        0.004699  0.008726  0.001614  0.004699  0.002095"
      ]
     },
     "execution_count": 27,
     "metadata": {},
     "output_type": "execute_result"
    }
   ],
   "source": [
    "search_space_rf = {\n",
    "    \"classifier__n_estimators\": [10, 100, 1000],\n",
    "    \"classifier__max_depth\":[5, 8, 15, 25, 30, None],\n",
    "    \"classifier__min_samples_leaf\":[1, 2, 5, 10, 15, 100],\n",
    "    \"classifier__max_leaf_nodes\": [2, 5, 10]\n",
    "}\n",
    "\n",
    "best_pipe_rf = search_pipeline(pipe_rf, search_space_rf, scoring, cv, seed_value, \n",
    "                               X_train, y_train, load_best=load_best, n_iter=n_iter)\n",
    "get_search_metrics(best_pipe_rf)"
   ]
  },
  {
   "cell_type": "code",
   "execution_count": 28,
   "id": "recovered-notebook",
   "metadata": {},
   "outputs": [
    {
     "name": "stdout",
     "output_type": "stream",
     "text": [
      "Fitting 5 folds for each of 1 candidates, totalling 5 fits\n",
      "Training time: 1.460862410068512 minutes\n",
      "Model saved at: /usr/src/data/best_models/ManualRandomForest.pkl\n"
     ]
    },
    {
     "data": {
      "text/html": [
       "<div>\n",
       "<style scoped>\n",
       "    .dataframe tbody tr th:only-of-type {\n",
       "        vertical-align: middle;\n",
       "    }\n",
       "\n",
       "    .dataframe tbody tr th {\n",
       "        vertical-align: top;\n",
       "    }\n",
       "\n",
       "    .dataframe thead th {\n",
       "        text-align: right;\n",
       "    }\n",
       "</style>\n",
       "<table border=\"1\" class=\"dataframe\">\n",
       "  <thead>\n",
       "    <tr style=\"text-align: right;\">\n",
       "      <th></th>\n",
       "      <th></th>\n",
       "      <th>f1</th>\n",
       "      <th>precision</th>\n",
       "      <th>recall</th>\n",
       "      <th>roc_auc</th>\n",
       "    </tr>\n",
       "    <tr>\n",
       "      <th>data</th>\n",
       "      <th>statistic</th>\n",
       "      <th></th>\n",
       "      <th></th>\n",
       "      <th></th>\n",
       "      <th></th>\n",
       "    </tr>\n",
       "  </thead>\n",
       "  <tbody>\n",
       "    <tr>\n",
       "      <th rowspan=\"2\" valign=\"top\">train</th>\n",
       "      <th>mean</th>\n",
       "      <td>0.998364</td>\n",
       "      <td>0.998365</td>\n",
       "      <td>0.998363</td>\n",
       "      <td>0.999954</td>\n",
       "    </tr>\n",
       "    <tr>\n",
       "      <th>std</th>\n",
       "      <td>0.000120</td>\n",
       "      <td>0.000121</td>\n",
       "      <td>0.000120</td>\n",
       "      <td>0.000006</td>\n",
       "    </tr>\n",
       "    <tr>\n",
       "      <th rowspan=\"2\" valign=\"top\">test</th>\n",
       "      <th>mean</th>\n",
       "      <td>0.903160</td>\n",
       "      <td>0.906249</td>\n",
       "      <td>0.905461</td>\n",
       "      <td>0.979593</td>\n",
       "    </tr>\n",
       "    <tr>\n",
       "      <th>std</th>\n",
       "      <td>0.003509</td>\n",
       "      <td>0.003123</td>\n",
       "      <td>0.003449</td>\n",
       "      <td>0.000958</td>\n",
       "    </tr>\n",
       "  </tbody>\n",
       "</table>\n",
       "</div>"
      ],
      "text/plain": [
       "                       f1 precision    recall   roc_auc\n",
       "data  statistic                                        \n",
       "train mean       0.998364  0.998365  0.998363  0.999954\n",
       "      std        0.000120  0.000121  0.000120  0.000006\n",
       "test  mean       0.903160  0.906249  0.905461  0.979593\n",
       "      std        0.003509  0.003123  0.003449  0.000958"
      ]
     },
     "execution_count": 28,
     "metadata": {},
     "output_type": "execute_result"
    }
   ],
   "source": [
    "pipe_rf_text = Pipeline(\n",
    "    [\n",
    "        ('preprocessor', text_transformer),\n",
    "        (\"classifier\", RandomForestClassifier(random_state=seed_value, n_jobs=-1))\n",
    "    ]\n",
    ")\n",
    "\n",
    "params_rf_text = {\n",
    "    \"classifier__n_estimators\": [100],\n",
    "    \"preprocessor__text_column_concatenation__columns\": [['title', 'concatenated_tags']],\n",
    "    \"preprocessor__count_vectorizer__stop_words\": [stopwords],\n",
    "    \"preprocessor__count_vectorizer__token_pattern\": ['(?u)\\\\b[^\\\\d\\\\W]{3,15}\\\\b'],\n",
    "    \"preprocessor__count_vectorizer__stemming\": [False],\n",
    "    \"preprocessor__tf_idf\": [TfidfTransformer()],\n",
    "}\n",
    "\n",
    "manual_pipe_rf = search_pipeline(pipe_rf_text, params_rf_text, scoring, cv, seed_value, \n",
    "                                 X_train, y_train, load_best=False, n_iter=1, \n",
    "                                 model_name=\"ManualRandomForest.pkl\")\n",
    "\n",
    "get_search_metrics(manual_pipe_rf)"
   ]
  },
  {
   "cell_type": "code",
   "execution_count": 29,
   "id": "skilled-warner",
   "metadata": {},
   "outputs": [
    {
     "data": {
      "text/html": [
       "<div>\n",
       "<style scoped>\n",
       "    .dataframe tbody tr th:only-of-type {\n",
       "        vertical-align: middle;\n",
       "    }\n",
       "\n",
       "    .dataframe tbody tr th {\n",
       "        vertical-align: top;\n",
       "    }\n",
       "\n",
       "    .dataframe thead th {\n",
       "        text-align: right;\n",
       "    }\n",
       "</style>\n",
       "<table border=\"1\" class=\"dataframe\">\n",
       "  <thead>\n",
       "    <tr style=\"text-align: right;\">\n",
       "      <th></th>\n",
       "      <th></th>\n",
       "      <th>accuracy</th>\n",
       "      <th>f1</th>\n",
       "      <th>precision</th>\n",
       "      <th>recall</th>\n",
       "      <th>roc_auc</th>\n",
       "    </tr>\n",
       "    <tr>\n",
       "      <th>data</th>\n",
       "      <th>statistic</th>\n",
       "      <th></th>\n",
       "      <th></th>\n",
       "      <th></th>\n",
       "      <th></th>\n",
       "      <th></th>\n",
       "    </tr>\n",
       "  </thead>\n",
       "  <tbody>\n",
       "    <tr>\n",
       "      <th rowspan=\"2\" valign=\"top\">train</th>\n",
       "      <th>mean</th>\n",
       "      <td>0.990855</td>\n",
       "      <td>0.990848</td>\n",
       "      <td>0.990866</td>\n",
       "      <td>0.990855</td>\n",
       "      <td>0.999888</td>\n",
       "    </tr>\n",
       "    <tr>\n",
       "      <th>std</th>\n",
       "      <td>0.000777</td>\n",
       "      <td>0.000778</td>\n",
       "      <td>0.000776</td>\n",
       "      <td>0.000777</td>\n",
       "      <td>0.000017</td>\n",
       "    </tr>\n",
       "    <tr>\n",
       "      <th rowspan=\"2\" valign=\"top\">test</th>\n",
       "      <th>mean</th>\n",
       "      <td>0.871283</td>\n",
       "      <td>0.870587</td>\n",
       "      <td>0.870271</td>\n",
       "      <td>0.871283</td>\n",
       "      <td>0.961227</td>\n",
       "    </tr>\n",
       "    <tr>\n",
       "      <th>std</th>\n",
       "      <td>0.005297</td>\n",
       "      <td>0.005220</td>\n",
       "      <td>0.005237</td>\n",
       "      <td>0.005297</td>\n",
       "      <td>0.001061</td>\n",
       "    </tr>\n",
       "  </tbody>\n",
       "</table>\n",
       "</div>"
      ],
      "text/plain": [
       "                 accuracy        f1 precision    recall   roc_auc\n",
       "data  statistic                                                  \n",
       "train mean       0.990855  0.990848  0.990866  0.990855  0.999888\n",
       "      std        0.000777  0.000778  0.000776  0.000777  0.000017\n",
       "test  mean       0.871283  0.870587  0.870271  0.871283  0.961227\n",
       "      std        0.005297  0.005220  0.005237  0.005297  0.001061"
      ]
     },
     "execution_count": 29,
     "metadata": {},
     "output_type": "execute_result"
    }
   ],
   "source": [
    "search_space_mlp = {\n",
    "    'classifier__hidden_layer_sizes': [(10, 30, 10),(20,)],\n",
    "    'classifier__activation': ['tanh', 'relu'],\n",
    "    'classifier__solver': ['sgd', 'adam'],\n",
    "    'classifier__alpha': [0.0001, 0.05],\n",
    "    'classifier__learning_rate': ['constant', 'adaptive']\n",
    "}\n",
    "\n",
    "search_space_mlp.update(text_hyperparams)\n",
    "\n",
    "best_pipe_mlp = search_pipeline(pipe_mlp, search_space_mlp, scoring, cv, seed_value, \n",
    "                                X_train, y_train, load_best=load_best, n_iter=n_iter)\n",
    "\n",
    "get_search_metrics(best_pipe_mlp)"
   ]
  },
  {
   "cell_type": "code",
   "execution_count": 30,
   "id": "every-spending",
   "metadata": {},
   "outputs": [
    {
     "name": "stdout",
     "output_type": "stream",
     "text": [
      "Best Model: RandomForestClassifier | Best ROC-AUC: 0.9795926695902015\n"
     ]
    }
   ],
   "source": [
    "search_list = [best_pipe_tree, best_pipe_log, best_pipe_rf, best_pipe_mlp, manual_pipe_rf]\n",
    "\n",
    "best_search_index = max(range(len(search_list)), key=lambda i: search_list[i].best_score_)\n",
    "best_search = search_list[best_search_index]\n",
    "\n",
    "best_score = best_search.best_score_\n",
    "best_model = best_search.best_estimator_\n",
    "\n",
    "\n",
    "print(f\"Best Model: {best_model['classifier'].__class__.__name__} | Best ROC-AUC: {best_score}\")"
   ]
  },
  {
   "cell_type": "code",
   "execution_count": 31,
   "id": "extraordinary-oliver",
   "metadata": {},
   "outputs": [],
   "source": [
    "validation_metrics = get_search_metrics(best_search)\n",
    "with open(os.getenv(\"METRICS_PATH\"), 'w') as f:\n",
    "    f.write(f\"Validation Metrics: \\n{validation_metrics.to_string()}\")"
   ]
  },
  {
   "cell_type": "markdown",
   "id": "purple-infrared",
   "metadata": {},
   "source": [
    "### Test Metrics  <a class=\"anchor\" id=\"test-metrics\"></a>"
   ]
  },
  {
   "cell_type": "code",
   "execution_count": 32,
   "id": "literary-tomorrow",
   "metadata": {},
   "outputs": [],
   "source": [
    "best_model.fit(X_train, y_train);"
   ]
  },
  {
   "cell_type": "code",
   "execution_count": 33,
   "id": "bearing-weapon",
   "metadata": {},
   "outputs": [],
   "source": [
    "y_train_pred = best_model.predict(X_train)\n",
    "y_train_proba = best_model.predict_proba(X_train)\n",
    "y_test_pred = best_model.predict(X_test)\n",
    "y_test_proba = best_model.predict_proba(X_test)"
   ]
  },
  {
   "cell_type": "code",
   "execution_count": 34,
   "id": "robust-arrival",
   "metadata": {},
   "outputs": [
    {
     "data": {
      "text/html": [
       "<div>\n",
       "<style scoped>\n",
       "    .dataframe tbody tr th:only-of-type {\n",
       "        vertical-align: middle;\n",
       "    }\n",
       "\n",
       "    .dataframe tbody tr th {\n",
       "        vertical-align: top;\n",
       "    }\n",
       "\n",
       "    .dataframe thead th {\n",
       "        text-align: right;\n",
       "    }\n",
       "</style>\n",
       "<table border=\"1\" class=\"dataframe\">\n",
       "  <thead>\n",
       "    <tr style=\"text-align: right;\">\n",
       "      <th></th>\n",
       "      <th></th>\n",
       "      <th>Bebê</th>\n",
       "      <th>Decoração</th>\n",
       "      <th>Lembrancinhas</th>\n",
       "      <th>Papel e Cia</th>\n",
       "      <th>Outros</th>\n",
       "      <th>Bijuterias e Jóias</th>\n",
       "    </tr>\n",
       "    <tr>\n",
       "      <th>metric</th>\n",
       "      <th>data</th>\n",
       "      <th></th>\n",
       "      <th></th>\n",
       "      <th></th>\n",
       "      <th></th>\n",
       "      <th></th>\n",
       "      <th></th>\n",
       "    </tr>\n",
       "  </thead>\n",
       "  <tbody>\n",
       "    <tr>\n",
       "      <th rowspan=\"2\" valign=\"top\">f1</th>\n",
       "      <th>train</th>\n",
       "      <td>0.998466</td>\n",
       "      <td>0.998854</td>\n",
       "      <td>0.998324</td>\n",
       "      <td>0.994558</td>\n",
       "      <td>0.996685</td>\n",
       "      <td>1.000000</td>\n",
       "    </tr>\n",
       "    <tr>\n",
       "      <th>test</th>\n",
       "      <td>0.910237</td>\n",
       "      <td>0.920835</td>\n",
       "      <td>0.934950</td>\n",
       "      <td>0.802372</td>\n",
       "      <td>0.724324</td>\n",
       "      <td>0.937330</td>\n",
       "    </tr>\n",
       "    <tr>\n",
       "      <th rowspan=\"2\" valign=\"top\">precision</th>\n",
       "      <th>train</th>\n",
       "      <td>0.998917</td>\n",
       "      <td>0.998854</td>\n",
       "      <td>0.998359</td>\n",
       "      <td>0.992308</td>\n",
       "      <td>0.998893</td>\n",
       "      <td>1.000000</td>\n",
       "    </tr>\n",
       "    <tr>\n",
       "      <th>test</th>\n",
       "      <td>0.936641</td>\n",
       "      <td>0.918472</td>\n",
       "      <td>0.904292</td>\n",
       "      <td>0.878788</td>\n",
       "      <td>0.930556</td>\n",
       "      <td>0.960894</td>\n",
       "    </tr>\n",
       "    <tr>\n",
       "      <th rowspan=\"2\" valign=\"top\">recall</th>\n",
       "      <th>train</th>\n",
       "      <td>0.998016</td>\n",
       "      <td>0.998854</td>\n",
       "      <td>0.998288</td>\n",
       "      <td>0.996818</td>\n",
       "      <td>0.994487</td>\n",
       "      <td>1.000000</td>\n",
       "    </tr>\n",
       "    <tr>\n",
       "      <th>test</th>\n",
       "      <td>0.885281</td>\n",
       "      <td>0.923209</td>\n",
       "      <td>0.967760</td>\n",
       "      <td>0.738182</td>\n",
       "      <td>0.592920</td>\n",
       "      <td>0.914894</td>\n",
       "    </tr>\n",
       "  </tbody>\n",
       "</table>\n",
       "</div>"
      ],
      "text/plain": [
       "                     Bebê Decoração Lembrancinhas Papel e Cia    Outros  \\\n",
       "metric    data                                                            \n",
       "f1        train  0.998466  0.998854      0.998324    0.994558  0.996685   \n",
       "          test   0.910237  0.920835      0.934950    0.802372  0.724324   \n",
       "precision train  0.998917  0.998854      0.998359    0.992308  0.998893   \n",
       "          test   0.936641  0.918472      0.904292    0.878788  0.930556   \n",
       "recall    train  0.998016  0.998854      0.998288    0.996818  0.994487   \n",
       "          test   0.885281  0.923209      0.967760    0.738182  0.592920   \n",
       "\n",
       "                Bijuterias e Jóias  \n",
       "metric    data                      \n",
       "f1        train           1.000000  \n",
       "          test            0.937330  \n",
       "precision train           1.000000  \n",
       "          test            0.960894  \n",
       "recall    train           1.000000  \n",
       "          test            0.914894  "
      ]
     },
     "execution_count": 34,
     "metadata": {},
     "output_type": "execute_result"
    }
   ],
   "source": [
    "labels = pd.unique(y_train)\n",
    "metrics = [\"f1\", \"precision\", \"recall\"]#, \"roc_auc\"]\n",
    "data_mode_list = [\"train\", \"test\"]\n",
    "iterables = [metrics, data_mode_list]\n",
    "index = pd.MultiIndex.from_product(iterables, names=[\"metric\", \"data\"])\n",
    "test_metrics_df = pd.DataFrame(index=index, columns=labels)\n",
    "\n",
    "y_tuples = [(y_train, y_train_pred, y_train_proba), (y_test, y_test_pred, y_test_proba)]\n",
    "\n",
    "for data_mode, y_tuple in zip(data_mode_list, y_tuples):\n",
    "    y_true, y_pred, y_proba = y_tuple\n",
    "    test_metrics_df.loc[(\"f1\", data_mode), :] = f1_score(y_true, y_pred, average=None, labels=labels)\n",
    "    test_metrics_df.loc[(\"precision\", data_mode), :] = precision_score(y_true, y_pred, average=None, labels=labels)\n",
    "    test_metrics_df.loc[(\"recall\", data_mode), :] = recall_score(y_true, y_pred, average=None, labels=labels)\n",
    "    #test_metrics_df.loc[(\"roc_auc\", data_mode), :] = roc_auc_score(y_true, y_proba, average=None, \n",
    "    #                                                               labels=labels[0])\n",
    "\n",
    "test_metrics_df"
   ]
  },
  {
   "cell_type": "code",
   "execution_count": 35,
   "id": "acoustic-handbook",
   "metadata": {},
   "outputs": [],
   "source": [
    "with open(os.getenv(\"METRICS_PATH\"), 'a') as f:\n",
    "    f.write(f\"\\n\\nTest Metrics: \\n{test_metrics_df.to_string()}\")"
   ]
  },
  {
   "cell_type": "code",
   "execution_count": 36,
   "id": "focal-amendment",
   "metadata": {},
   "outputs": [],
   "source": [
    "def plot_confusion_matrix(pipeline, X, y, normalize=False, title=None, cmap=plt.cm.Blues):\n",
    "    \"\"\"\n",
    "    This function prints and plots the confusion matrix.\n",
    "    Normalization can be applied by setting `normalize=True`.\n",
    "    \"\"\"\n",
    "    \n",
    "    y_pred = pipeline.predict(X)\n",
    "    classes = sorted(y.unique().tolist())\n",
    "    cm = confusion_matrix(y, y_pred, labels=classes)\n",
    "    pipe_name = pipeline[\"classifier\"].__class__.__name__\n",
    "    \n",
    "    if normalize:\n",
    "        cm = cm.astype('float') / cm.sum(axis=1)[:, np.newaxis]\n",
    "    \n",
    "    title = f'Confusion Matrix for {pipe_name}'\n",
    "    \n",
    "    plt.imshow(cm, interpolation='nearest', cmap=cmap)\n",
    "    plt.title(title)\n",
    "    plt.colorbar()\n",
    "    tick_marks = np.arange(len(classes))\n",
    "    plt.xticks(tick_marks, classes, rotation=45)\n",
    "    plt.yticks(tick_marks, classes)\n",
    "\n",
    "    fmt = '.2f' if normalize else 'd'\n",
    "    thresh = cm.max() / 2.\n",
    "    for i, j in itertools.product(range(cm.shape[0]), range(cm.shape[1])):\n",
    "        plt.text(j, i, format(cm[i, j], fmt),\n",
    "                 horizontalalignment=\"center\",\n",
    "                 color=\"white\" if cm[i, j] > thresh else \"black\")\n",
    "\n",
    "    plt.ylabel('True Class')\n",
    "    plt.xlabel('Predicted Class')\n",
    "    plt.tight_layout()"
   ]
  },
  {
   "cell_type": "code",
   "execution_count": 37,
   "id": "upset-record",
   "metadata": {},
   "outputs": [
    {
     "name": "stdout",
     "output_type": "stream",
     "text": [
      "Training Data\n"
     ]
    },
    {
     "data": {
      "image/png": "[encoded data removed]",
      "text/plain": [
       "<Figure size 504x504 with 2 Axes>"
      ]
     },
     "metadata": {
      "needs_background": "light"
     },
     "output_type": "display_data"
    }
   ],
   "source": [
    "plt.figure(figsize=(7,7))\n",
    "print(\"Training Data\")\n",
    "plot_confusion_matrix(best_model, X_train, y_train, normalize=True)"
   ]
  },
  {
   "cell_type": "code",
   "execution_count": 38,
   "id": "competitive-dairy",
   "metadata": {},
   "outputs": [
    {
     "name": "stdout",
     "output_type": "stream",
     "text": [
      "Testing Data\n"
     ]
    },
    {
     "data": {
      "image/png": "[encoded data removed]",
      "text/plain": [
       "<Figure size 504x504 with 2 Axes>"
      ]
     },
     "metadata": {
      "needs_background": "light"
     },
     "output_type": "display_data"
    }
   ],
   "source": [
    "plt.figure(figsize=(7,7))\n",
    "print(\"Testing Data\")\n",
    "plot_confusion_matrix(best_model, X_test, y_test, normalize=True)"
   ]
  },
  {
   "cell_type": "markdown",
   "id": "mature-selection",
   "metadata": {},
   "source": [
    "In addition to the metrics and the confusion matrix, we think it is important to have an idea of the distribution of the categories when using the model. The table below shows the percentage of each true class in the predicted ones."
   ]
  },
  {
   "cell_type": "code",
   "execution_count": 39,
   "id": "amazing-chapel",
   "metadata": {},
   "outputs": [
    {
     "name": "stdout",
     "output_type": "stream",
     "text": [
      "Proportion of true classes in the predicted ones\n"
     ]
    },
    {
     "data": {
      "text/plain": [
       "Predicted           True              \n",
       "Bebê                Bebê                  0.94\n",
       "                    Decoração             0.03\n",
       "                    Lembrancinhas         0.02\n",
       "                    Outros                0.01\n",
       "                    Papel e Cia           0.01\n",
       "                    Bijuterias e Jóias    0.00\n",
       "Bijuterias e Jóias  Bijuterias e Jóias    0.96\n",
       "                    Outros                0.02\n",
       "                    Decoração             0.01\n",
       "                    Lembrancinhas         0.01\n",
       "Decoração           Decoração             0.92\n",
       "                    Bebê                  0.03\n",
       "                    Lembrancinhas         0.02\n",
       "                    Outros                0.01\n",
       "                    Papel e Cia           0.01\n",
       "                    Bijuterias e Jóias    0.01\n",
       "Lembrancinhas       Lembrancinhas         0.90\n",
       "                    Papel e Cia           0.03\n",
       "                    Bebê                  0.03\n",
       "                    Decoração             0.02\n",
       "                    Outros                0.01\n",
       "                    Bijuterias e Jóias    0.00\n",
       "Outros              Outros                0.93\n",
       "                    Decoração             0.03\n",
       "                    Lembrancinhas         0.02\n",
       "                    Bebê                  0.01\n",
       "Papel e Cia         Papel e Cia           0.88\n",
       "                    Lembrancinhas         0.08\n",
       "                    Decoração             0.02\n",
       "                    Bebê                  0.01\n",
       "                    Outros                0.01\n",
       "Name: True, dtype: float64"
      ]
     },
     "execution_count": 39,
     "metadata": {},
     "output_type": "execute_result"
    }
   ],
   "source": [
    "y_pred = best_model.predict(X_test)\n",
    "df = pd.DataFrame({\"True\": y_test, \"Predicted\": y_pred})\n",
    "print(\"Proportion of true classes in the predicted ones\")\n",
    "df.groupby([\"Predicted\"])['True'].value_counts(normalize=True).round(2)"
   ]
  },
  {
   "cell_type": "code",
   "execution_count": 40,
   "id": "empty-chaos",
   "metadata": {},
   "outputs": [
    {
     "name": "stdout",
     "output_type": "stream",
     "text": [
      "CPU times: user 38.4 ms, sys: 4.06 ms, total: 42.5 ms\n",
      "Wall time: 56.6 ms\n"
     ]
    },
    {
     "data": {
      "text/plain": [
       "array(['Lembrancinhas'], dtype=object)"
      ]
     },
     "execution_count": 40,
     "metadata": {},
     "output_type": "execute_result"
    }
   ],
   "source": [
    "%%time\n",
    "best_model.predict(X_test.head(1))"
   ]
  },
  {
   "cell_type": "code",
   "execution_count": null,
   "id": "successful-latex",
   "metadata": {},
   "outputs": [],
   "source": [
    "%%time\n",
    "best_model.predict(X_test)"
   ]
  },
  {
   "cell_type": "markdown",
   "id": "legislative-dairy",
   "metadata": {},
   "source": [
    "## Model Exportation <a class=\"anchor\" id=\"model-exportation\"></a>"
   ]
  },
  {
   "cell_type": "code",
   "execution_count": null,
   "id": "developing-plastic",
   "metadata": {},
   "outputs": [],
   "source": [
    "best_model.fit(X, y); "
   ]
  },
  {
   "cell_type": "code",
   "execution_count": null,
   "id": "overall-kitty",
   "metadata": {},
   "outputs": [],
   "source": [
    "save_model(best_model, os.getenv(\"MODEL_PATH\"))"
   ]
  }
 ],
 "metadata": {
  "kernelspec": {
   "display_name": "Python 3",
   "language": "python",
   "name": "python3"
  },
  "language_info": {
   "codemirror_mode": {
    "name": "ipython",
    "version": 3
   },
   "file_extension": ".py",
   "mimetype": "text/x-python",
   "name": "python",
   "nbconvert_exporter": "python",
   "pygments_lexer": "ipython3",
   "version": "3.9.1"
  }
 },
 "nbformat": 4,
 "nbformat_minor": 5
}
